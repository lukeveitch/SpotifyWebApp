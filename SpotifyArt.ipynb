{
 "cells": [
  {
   "cell_type": "code",
   "execution_count": 6,
   "id": "d2eb4949",
   "metadata": {},
   "outputs": [],
   "source": [
    "from SpotifyClient import SpotifyClient, client_id, client_secret\n",
    "from ImageGenerator import ImageGenerator"
   ]
  },
  {
   "cell_type": "markdown",
   "id": "8b39e4a6",
   "metadata": {},
   "source": [
    "<hr>"
   ]
  },
  {
   "cell_type": "code",
   "execution_count": 4,
   "id": "38db14a1",
   "metadata": {},
   "outputs": [],
   "source": [
    "playlist_id = '5AAD6wso6ksiY8V7yu6Gr2'"
   ]
  },
  {
   "cell_type": "code",
   "execution_count": 5,
   "id": "8838236c",
   "metadata": {},
   "outputs": [],
   "source": [
    "dir_path = \"C:\\\\Users\\\\Lenovo\\\\OneDrive\\\\Desktop\\\\PietMondrian\\\\\"\n",
    "script_name = \"PietMondrian.pyde\""
   ]
  },
  {
   "cell_type": "markdown",
   "id": "2ef59f36",
   "metadata": {},
   "source": [
    "<hr>"
   ]
  },
  {
   "cell_type": "code",
   "execution_count": 7,
   "id": "f31253c2",
   "metadata": {},
   "outputs": [],
   "source": [
    "spotifyClient = SpotifyClient(client_id, client_secret)\n",
    "is_success, playlist_image, track_ids = spotifyClient.getPlaylistInfo(playlist_id)\n",
    "is_success, audio_features = spotifyClient.getFeatures(track_ids)"
   ]
  },
  {
   "cell_type": "markdown",
   "id": "5c90a96f",
   "metadata": {},
   "source": [
    "<hr>"
   ]
  },
  {
   "cell_type": "code",
   "execution_count": 8,
   "id": "f805d806",
   "metadata": {},
   "outputs": [],
   "source": [
    "imageGenerator = ImageGenerator(dir_path, script_name)\n",
    "image_art_url = imageGenerator.makeArt() #will want to pass in the audiofeatures"
   ]
  }
 ],
 "metadata": {
  "kernelspec": {
   "display_name": "Python 3 (ipykernel)",
   "language": "python",
   "name": "python3"
  },
  "language_info": {
   "codemirror_mode": {
    "name": "ipython",
    "version": 3
   },
   "file_extension": ".py",
   "mimetype": "text/x-python",
   "name": "python",
   "nbconvert_exporter": "python",
   "pygments_lexer": "ipython3",
   "version": "3.9.7"
  }
 },
 "nbformat": 4,
 "nbformat_minor": 5
}
