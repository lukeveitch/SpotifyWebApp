{
 "cells": [
  {
   "cell_type": "code",
   "execution_count": 4,
   "id": "d2eb4949",
   "metadata": {},
   "outputs": [],
   "source": [
    "from SpotifyClient import SpotifyClient, client_id, client_secret"
   ]
  },
  {
   "cell_type": "code",
   "execution_count": 5,
   "id": "38db14a1",
   "metadata": {},
   "outputs": [],
   "source": [
    "playlist_id = '5AAD6wso6ksiY8V7yu6Gr2'"
   ]
  },
  {
   "cell_type": "code",
   "execution_count": 7,
   "id": "f31253c2",
   "metadata": {},
   "outputs": [],
   "source": [
    "spotifyClient = SpotifyClient(client_id, client_secret)\n",
    "is_success, playlist_image, track_ids = spotifyClient.getPlaylistInfo(playlist_id)\n",
    "is_success, audio_features = spotifyClient.getFeatures(track_ids)"
   ]
  },
  {
   "cell_type": "code",
   "execution_count": null,
   "id": "bfa974bf",
   "metadata": {},
   "outputs": [],
   "source": [
    "#ticket 2"
   ]
  },
  {
   "cell_type": "code",
   "execution_count": null,
   "id": "f805d806",
   "metadata": {},
   "outputs": [],
   "source": [
    "imageGenerator = ImageGenerator()\n",
    "image_art_url = imageGenerator.makeArt(audioFeatures)"
   ]
  },
  {
   "cell_type": "code",
   "execution_count": null,
   "id": "1b9bdc72",
   "metadata": {},
   "outputs": [],
   "source": [
    "#Create spotify Client\n",
    "\n",
    "    # def getPlaylistInfo()\n",
    "        \n",
    "    # def getFeatures()"
   ]
  }
 ],
 "metadata": {
  "kernelspec": {
   "display_name": "Python 3 (ipykernel)",
   "language": "python",
   "name": "python3"
  },
  "language_info": {
   "codemirror_mode": {
    "name": "ipython",
    "version": 3
   },
   "file_extension": ".py",
   "mimetype": "text/x-python",
   "name": "python",
   "nbconvert_exporter": "python",
   "pygments_lexer": "ipython3",
   "version": "3.9.7"
  }
 },
 "nbformat": 4,
 "nbformat_minor": 5
}
