{
 "cells": [
  {
   "cell_type": "code",
   "execution_count": 2,
   "id": "3f19a784",
   "metadata": {},
   "outputs": [],
   "source": [
    "import os\n",
    "import glob"
   ]
  },
  {
   "cell_type": "code",
   "execution_count": 3,
   "id": "69d8c20a",
   "metadata": {},
   "outputs": [],
   "source": [
    "path = \"C:\\\\Users\\\\Lenovo\\\\OneDrive\\\\Desktop\\\\PietMondrian\\\\\"\n",
    "file_name = \"PietMondrian.pyde\""
   ]
  },
  {
   "cell_type": "code",
   "execution_count": 16,
   "id": "b4e5c1dc",
   "metadata": {},
   "outputs": [],
   "source": [
    "class ImageGenerator(object):\n",
    "    path_to_script_dir = None\n",
    "    \n",
    "    def __init__(self, path_to_script_dir, processing_script):\n",
    "        self.path_to_script_dir = path_to_script_dir.removesuffix('\\\\').removesuffix('/')       \n",
    "        self.processing_script = processing_script\n",
    "        \n",
    "    def makeArt(self): # !!!!!!!!!! add a more meaningful name to the file that is generated\n",
    "        #run cli command\n",
    "        stream = os.popen(f'java -jar {self.path_to_script_dir}\\\\processing-py.jar {self.path_to_script_dir}\\\\{self.processing_script}')\n",
    "        output = stream.read()\n",
    "\n",
    "        #get most recent file\n",
    "        list_of_files = glob.glob(f'{self.path_to_script_dir}\\\\Examples\\\\*')\n",
    "        latest_file = max(list_of_files, key=os.path.getctime)\n",
    "        return latest_file"
   ]
  },
  {
   "cell_type": "code",
   "execution_count": 17,
   "id": "c5b2bc21",
   "metadata": {},
   "outputs": [],
   "source": [
    "imageGenerator = ImageGenerator(path, file_name)"
   ]
  },
  {
   "cell_type": "code",
   "execution_count": 20,
   "id": "36f9571c",
   "metadata": {},
   "outputs": [],
   "source": [
    "image_art_url = imageGenerator.makeArt()"
   ]
  },
  {
   "cell_type": "code",
   "execution_count": 21,
   "id": "7bf3e0ff",
   "metadata": {},
   "outputs": [
    {
     "data": {
      "text/plain": [
       "'C:\\\\Users\\\\Lenovo\\\\OneDrive\\\\Desktop\\\\PietMondrian\\\\Examples\\\\3544.png'"
      ]
     },
     "execution_count": 21,
     "metadata": {},
     "output_type": "execute_result"
    }
   ],
   "source": [
    "image_art_url"
   ]
  },
  {
   "cell_type": "code",
   "execution_count": null,
   "id": "a9bb3dc3",
   "metadata": {},
   "outputs": [],
   "source": []
  }
 ],
 "metadata": {
  "kernelspec": {
   "display_name": "Python 3 (ipykernel)",
   "language": "python",
   "name": "python3"
  },
  "language_info": {
   "codemirror_mode": {
    "name": "ipython",
    "version": 3
   },
   "file_extension": ".py",
   "mimetype": "text/x-python",
   "name": "python",
   "nbconvert_exporter": "python",
   "pygments_lexer": "ipython3",
   "version": "3.9.7"
  }
 },
 "nbformat": 4,
 "nbformat_minor": 5
}
